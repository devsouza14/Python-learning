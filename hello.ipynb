{
 "cells": [
  {
   "cell_type": "code",
   "execution_count": 1,
   "id": "c6009e52-04b8-4021-ac37-a80569401d1b",
   "metadata": {},
   "outputs": [
    {
     "name": "stdout",
     "output_type": "stream",
     "text": [
      "Hello, World\n"
     ]
    }
   ],
   "source": [
    "print(\"Hello, World\")"
   ]
  },
  {
   "cell_type": "code",
   "execution_count": 6,
   "id": "78c64fa3-44d3-4219-9f23-7c8ffb7d23b6",
   "metadata": {},
   "outputs": [],
   "source": [
    "## Segunda tarefa\n"
   ]
  },
  {
   "cell_type": "code",
   "execution_count": 22,
   "id": "e30c9ee0-39fe-45bd-8ec6-1417597fb314",
   "metadata": {},
   "outputs": [
    {
     "name": "stdout",
     "output_type": "stream",
     "text": [
      "0\n",
      "1\n",
      "2\n",
      "3\n",
      "4\n",
      "5\n",
      "6\n",
      "7\n",
      "8\n",
      "9\n",
      "10\n"
     ]
    }
   ],
   "source": [
    "for i in range (0,11):\n",
    "    print(i)\n",
    "    "
   ]
  },
  {
   "cell_type": "code",
   "execution_count": 38,
   "id": "d49239c3-3b15-45bf-89d5-1e10d2ed34a8",
   "metadata": {},
   "outputs": [
    {
     "name": "stdin",
     "output_type": "stream",
     "text": [
      "Please enter a number greater than 1:  0\n"
     ]
    },
    {
     "name": "stdout",
     "output_type": "stream",
     "text": [
      "Invalid input. Please try again.\n"
     ]
    },
    {
     "name": "stdin",
     "output_type": "stream",
     "text": [
      "Please enter a number greater than 1:  0\n"
     ]
    },
    {
     "name": "stdout",
     "output_type": "stream",
     "text": [
      "Invalid input. Please try again.\n"
     ]
    },
    {
     "name": "stdin",
     "output_type": "stream",
     "text": [
      "Please enter a number greater than 1:  0\n"
     ]
    },
    {
     "name": "stdout",
     "output_type": "stream",
     "text": [
      "Invalid input. Please try again.\n"
     ]
    },
    {
     "name": "stdin",
     "output_type": "stream",
     "text": [
      "Please enter a number greater than 1:  -1\n"
     ]
    },
    {
     "name": "stdout",
     "output_type": "stream",
     "text": [
      "Invalid input. Please try again.\n"
     ]
    },
    {
     "name": "stdin",
     "output_type": "stream",
     "text": [
      "Please enter a number greater than 1:  -2\n"
     ]
    },
    {
     "name": "stdout",
     "output_type": "stream",
     "text": [
      "Invalid input. Please try again.\n"
     ]
    },
    {
     "name": "stdin",
     "output_type": "stream",
     "text": [
      "Please enter a number greater than 1:  0\n"
     ]
    },
    {
     "name": "stdout",
     "output_type": "stream",
     "text": [
      "Invalid input. Please try again.\n"
     ]
    },
    {
     "name": "stdin",
     "output_type": "stream",
     "text": [
      "Please enter a number greater than 1:  1\n"
     ]
    }
   ],
   "source": [
    "valid_input = False\n",
    "while not valid_input:\n",
    "    user_input = int(input(\"Please enter a number greater than 1: \"))\n",
    "    if user_input >= 1:\n",
    "        valid_input = True\n",
    "    else:\n",
    "        print(\"Invalid input. Please try again.\")\n",
    "    \n"
   ]
  },
  {
   "cell_type": "code",
   "execution_count": 50,
   "id": "6719887e-b86c-4c6d-9839-16487b8a1397",
   "metadata": {},
   "outputs": [
    {
     "name": "stdin",
     "output_type": "stream",
     "text": [
      "Qual a pontuação do jogador:  99\n"
     ]
    },
    {
     "name": "stdout",
     "output_type": "stream",
     "text": [
      "Continue tentando bater seu recorde!\n"
     ]
    }
   ],
   "source": [
    "player_score = int(input(\"Qual a pontuação do jogador: \"))\n",
    "if player_score >= 100:\n",
    "    print(\"Parabéns! Você marcou 100 ou mais pontos.\")\n",
    "else:\n",
    "    print(\"Continue tentando bater seu recorde!\")\n",
    "    "
   ]
  },
  {
   "cell_type": "code",
   "execution_count": 57,
   "id": "751778ab-c146-4725-a34e-ff9304b3c48d",
   "metadata": {},
   "outputs": [
    {
     "name": "stdout",
     "output_type": "stream",
     "text": [
      "Guessing: 10\n",
      "Guessing: 7\n",
      "Guessing: 4\n",
      "Guessing: 6\n",
      "Guessing: 15\n",
      "Guessing: 20\n",
      "Guessing: 7\n",
      "Guessing: 18\n",
      "Guessing: 20\n",
      "Guessing: 1\n",
      "Guessing: 16\n",
      "Guessing: 10\n",
      "Guessing: 14\n",
      "I guessed the right number! It was 14\n"
     ]
    }
   ],
   "source": [
    "import random\n",
    "\n",
    "secret_number = 14\n",
    "\n",
    "guess = 0 \n",
    "\n",
    "\n",
    "while not guess == secret_number:\n",
    "\tguess = random.randint(1, 20)\n",
    "\tprint(\"Guessing:\",guess)\n",
    "\n",
    "print(\"I guessed the right number! It was\",secret_number)"
   ]
  },
  {
   "cell_type": "code",
   "execution_count": 2,
   "id": "968f2d0e-c0e3-4aa6-b56b-ca8f16a38c45",
   "metadata": {},
   "outputs": [
    {
     "name": "stdout",
     "output_type": "stream",
     "text": [
      "Hello, Alice\n",
      "Hello, Bob\n",
      "Hello, Charlie\n"
     ]
    }
   ],
   "source": [
    "students = [\"Alice\", \"Bob\", \"Charlie\"]\n",
    "for i in range(0,len(students)):\n",
    "    print(\"Hello,\", students[i])"
   ]
  },
  {
   "cell_type": "code",
   "execution_count": 8,
   "id": "56ac28e4-24cf-444f-8610-57eeb0455421",
   "metadata": {},
   "outputs": [
    {
     "name": "stdout",
     "output_type": "stream",
     "text": [
      "You rolled a 2\n",
      "You rolled a 5\n",
      "You rolled a 1\n",
      "You rolled a 1\n",
      "You rolled a 3\n",
      "You rolled a 6\n"
     ]
    }
   ],
   "source": [
    "import random\n",
    "roll = 0\n",
    "while roll != 6:\n",
    "    roll = random.randint(1, 6) \n",
    "    print(\"You rolled a\", roll)"
   ]
  },
  {
   "cell_type": "code",
   "execution_count": 10,
   "id": "6b4f8656-5f0d-45a5-a1aa-842d0088b3d5",
   "metadata": {},
   "outputs": [
    {
     "name": "stdout",
     "output_type": "stream",
     "text": [
      "The sum is: 1\n",
      "The sum is: 3\n",
      "The sum is: 6\n",
      "The sum is: 10\n",
      "The sum is: 15\n",
      "The sum is: 21\n",
      "The sum is: 28\n",
      "The sum is: 36\n",
      "The sum is: 45\n",
      "The sum is: 55\n",
      "The sum is: 66\n",
      "The sum is: 78\n",
      "The sum is: 91\n",
      "The sum is: 105\n",
      "The sum is: 120\n",
      "The sum is: 136\n",
      "The sum is: 153\n",
      "The sum is: 171\n",
      "The sum is: 190\n",
      "The sum is: 210\n",
      "The sum is: 231\n",
      "The sum is: 253\n",
      "The sum is: 276\n",
      "The sum is: 300\n",
      "The sum is: 325\n",
      "The sum is: 351\n",
      "The sum is: 378\n",
      "The sum is: 406\n",
      "The sum is: 435\n",
      "The sum is: 465\n",
      "The sum is: 496\n",
      "The sum is: 528\n",
      "The sum is: 561\n",
      "The sum is: 595\n",
      "The sum is: 630\n",
      "The sum is: 666\n",
      "The sum is: 703\n",
      "The sum is: 741\n",
      "The sum is: 780\n",
      "The sum is: 820\n",
      "The sum is: 861\n",
      "The sum is: 903\n",
      "The sum is: 946\n",
      "The sum is: 990\n",
      "The sum is: 1035\n",
      "The sum is: 1081\n",
      "The sum is: 1128\n",
      "The sum is: 1176\n",
      "The sum is: 1225\n",
      "The sum is: 1275\n",
      "The sum is: 1326\n",
      "The sum is: 1378\n",
      "The sum is: 1431\n",
      "The sum is: 1485\n",
      "The sum is: 1540\n",
      "The sum is: 1596\n",
      "The sum is: 1653\n",
      "The sum is: 1711\n",
      "The sum is: 1770\n",
      "The sum is: 1830\n",
      "The sum is: 1891\n",
      "The sum is: 1953\n",
      "The sum is: 2016\n",
      "The sum is: 2080\n",
      "The sum is: 2145\n",
      "The sum is: 2211\n",
      "The sum is: 2278\n",
      "The sum is: 2346\n",
      "The sum is: 2415\n",
      "The sum is: 2485\n",
      "The sum is: 2556\n",
      "The sum is: 2628\n",
      "The sum is: 2701\n",
      "The sum is: 2775\n",
      "The sum is: 2850\n",
      "The sum is: 2926\n",
      "The sum is: 3003\n",
      "The sum is: 3081\n",
      "The sum is: 3160\n",
      "The sum is: 3240\n",
      "The sum is: 3321\n",
      "The sum is: 3403\n",
      "The sum is: 3486\n",
      "The sum is: 3570\n",
      "The sum is: 3655\n",
      "The sum is: 3741\n",
      "The sum is: 3828\n",
      "The sum is: 3916\n",
      "The sum is: 4005\n",
      "The sum is: 4095\n",
      "The sum is: 4186\n",
      "The sum is: 4278\n",
      "The sum is: 4371\n",
      "The sum is: 4465\n",
      "The sum is: 4560\n",
      "The sum is: 4656\n",
      "The sum is: 4753\n",
      "The sum is: 4851\n",
      "The sum is: 4950\n",
      "The sum is: 5050\n"
     ]
    }
   ],
   "source": [
    "total = 0\n",
    "for number in range(1, 101): \n",
    "    total += number\n",
    "    print(\"The sum is:\", total)"
   ]
  },
  {
   "cell_type": "code",
   "execution_count": 12,
   "id": "a2157e36-0859-43c7-93b2-1eea635780d7",
   "metadata": {},
   "outputs": [
    {
     "name": "stdout",
     "output_type": "stream",
     "text": [
      "The sum is: 1\n",
      "The sum is: 3\n",
      "The sum is: 6\n",
      "The sum is: 10\n",
      "The sum is: 15\n",
      "The sum is: 21\n",
      "The sum is: 28\n",
      "The sum is: 36\n",
      "The sum is: 45\n",
      "The sum is: 55\n",
      "The sum is: 66\n",
      "The sum is: 78\n",
      "The sum is: 91\n",
      "The sum is: 105\n",
      "The sum is: 120\n",
      "The sum is: 136\n",
      "The sum is: 153\n",
      "The sum is: 171\n",
      "The sum is: 190\n",
      "The sum is: 210\n",
      "The sum is: 231\n",
      "The sum is: 253\n",
      "The sum is: 276\n",
      "The sum is: 300\n",
      "The sum is: 325\n",
      "The sum is: 351\n",
      "The sum is: 378\n",
      "The sum is: 406\n",
      "The sum is: 435\n",
      "The sum is: 465\n",
      "The sum is: 496\n",
      "The sum is: 528\n",
      "The sum is: 561\n",
      "The sum is: 595\n",
      "The sum is: 630\n",
      "The sum is: 666\n",
      "The sum is: 703\n",
      "The sum is: 741\n",
      "The sum is: 780\n",
      "The sum is: 820\n",
      "The sum is: 861\n",
      "The sum is: 903\n",
      "The sum is: 946\n",
      "The sum is: 990\n",
      "The sum is: 1035\n",
      "The sum is: 1081\n",
      "The sum is: 1128\n",
      "The sum is: 1176\n",
      "The sum is: 1225\n",
      "The sum is: 1275\n",
      "The sum is: 1326\n",
      "The sum is: 1378\n",
      "The sum is: 1431\n",
      "The sum is: 1485\n",
      "The sum is: 1540\n",
      "The sum is: 1596\n",
      "The sum is: 1653\n",
      "The sum is: 1711\n",
      "The sum is: 1770\n",
      "The sum is: 1830\n",
      "The sum is: 1891\n",
      "The sum is: 1953\n",
      "The sum is: 2016\n",
      "The sum is: 2080\n",
      "The sum is: 2145\n",
      "The sum is: 2211\n",
      "The sum is: 2278\n",
      "The sum is: 2346\n",
      "The sum is: 2415\n",
      "The sum is: 2485\n",
      "The sum is: 2556\n",
      "The sum is: 2628\n",
      "The sum is: 2701\n",
      "The sum is: 2775\n",
      "The sum is: 2850\n",
      "The sum is: 2926\n",
      "The sum is: 3003\n",
      "The sum is: 3081\n",
      "The sum is: 3160\n",
      "The sum is: 3240\n",
      "The sum is: 3321\n",
      "The sum is: 3403\n",
      "The sum is: 3486\n",
      "The sum is: 3570\n",
      "The sum is: 3655\n",
      "The sum is: 3741\n",
      "The sum is: 3828\n",
      "The sum is: 3916\n",
      "The sum is: 4005\n",
      "The sum is: 4095\n",
      "The sum is: 4186\n",
      "The sum is: 4278\n",
      "The sum is: 4371\n",
      "The sum is: 4465\n",
      "The sum is: 4560\n",
      "The sum is: 4656\n",
      "The sum is: 4753\n",
      "The sum is: 4851\n",
      "The sum is: 4950\n",
      "The sum is: 5050\n"
     ]
    }
   ],
   "source": [
    "total = 0\n",
    "for number in range(1, 101): \n",
    "    total += number\n",
    "    print(\"The sum is:\", total)"
   ]
  },
  {
   "cell_type": "code",
   "execution_count": 14,
   "id": "3d5bee7c-6579-41a5-acd8-47f12dd9b453",
   "metadata": {},
   "outputs": [
    {
     "name": "stdout",
     "output_type": "stream",
     "text": [
      "2\n",
      "4\n"
     ]
    }
   ],
   "source": [
    "numbers = [1, 2, 3, 4, 5]\n",
    "index = 0\n",
    "\n",
    "while index < len(numbers):\n",
    "    if numbers[index] % 2 == 0:\n",
    "        print(numbers[index])\n",
    "    index += 1"
   ]
  },
  {
   "cell_type": "code",
   "execution_count": 16,
   "id": "d4baa752-b141-47f2-a0e8-16e349e2dec6",
   "metadata": {},
   "outputs": [
    {
     "name": "stdout",
     "output_type": "stream",
     "text": [
      "1 * 1 = 1\t1 * 2 = 2\t1 * 3 = 3\t1 * 4 = 4\t1 * 5 = 5\t1 * 6 = 6\t1 * 7 = 7\t1 * 8 = 8\t1 * 9 = 9\t1 * 10 = 10\t\n",
      "2 * 1 = 2\t2 * 2 = 4\t2 * 3 = 6\t2 * 4 = 8\t2 * 5 = 10\t2 * 6 = 12\t2 * 7 = 14\t2 * 8 = 16\t2 * 9 = 18\t2 * 10 = 20\t\n",
      "3 * 1 = 3\t3 * 2 = 6\t3 * 3 = 9\t3 * 4 = 12\t3 * 5 = 15\t3 * 6 = 18\t3 * 7 = 21\t3 * 8 = 24\t3 * 9 = 27\t3 * 10 = 30\t\n",
      "4 * 1 = 4\t4 * 2 = 8\t4 * 3 = 12\t4 * 4 = 16\t4 * 5 = 20\t4 * 6 = 24\t4 * 7 = 28\t4 * 8 = 32\t4 * 9 = 36\t4 * 10 = 40\t\n",
      "5 * 1 = 5\t5 * 2 = 10\t5 * 3 = 15\t5 * 4 = 20\t5 * 5 = 25\t5 * 6 = 30\t5 * 7 = 35\t5 * 8 = 40\t5 * 9 = 45\t5 * 10 = 50\t\n",
      "6 * 1 = 6\t6 * 2 = 12\t6 * 3 = 18\t6 * 4 = 24\t6 * 5 = 30\t6 * 6 = 36\t6 * 7 = 42\t6 * 8 = 48\t6 * 9 = 54\t6 * 10 = 60\t\n",
      "7 * 1 = 7\t7 * 2 = 14\t7 * 3 = 21\t7 * 4 = 28\t7 * 5 = 35\t7 * 6 = 42\t7 * 7 = 49\t7 * 8 = 56\t7 * 9 = 63\t7 * 10 = 70\t\n",
      "8 * 1 = 8\t8 * 2 = 16\t8 * 3 = 24\t8 * 4 = 32\t8 * 5 = 40\t8 * 6 = 48\t8 * 7 = 56\t8 * 8 = 64\t8 * 9 = 72\t8 * 10 = 80\t\n",
      "9 * 1 = 9\t9 * 2 = 18\t9 * 3 = 27\t9 * 4 = 36\t9 * 5 = 45\t9 * 6 = 54\t9 * 7 = 63\t9 * 8 = 72\t9 * 9 = 81\t9 * 10 = 90\t\n",
      "10 * 1 = 10\t10 * 2 = 20\t10 * 3 = 30\t10 * 4 = 40\t10 * 5 = 50\t10 * 6 = 60\t10 * 7 = 70\t10 * 8 = 80\t10 * 9 = 90\t10 * 10 = 100\t\n"
     ]
    }
   ],
   "source": [
    "for i in range(1, 11):\n",
    "    for j in range(1, 11):\n",
    "        print(i, \"*\", j, \"=\", i * j, end=\"\\t\") # Print the equation\n",
    "    print() # Move to the next line after each row"
   ]
  },
  {
   "cell_type": "code",
   "execution_count": 18,
   "id": "8a3e4927-727a-42b9-ac25-91d81a19bd09",
   "metadata": {},
   "outputs": [
    {
     "name": "stdout",
     "output_type": "stream",
     "text": [
      "1 * 1 = 1\t1 * 2 = 2\t1 * 3 = 3\t1 * 4 = 4\t1 * 5 = 5\t1 * 6 = 6\t1 * 7 = 7\t1 * 8 = 8\t1 * 9 = 9\t1 * 10 = 10\t\n",
      "2 * 1 = 2\t2 * 2 = 4\t2 * 3 = 6\t2 * 4 = 8\t2 * 5 = 10\t2 * 6 = 12\t2 * 7 = 14\t2 * 8 = 16\t2 * 9 = 18\t2 * 10 = 20\t\n",
      "3 * 1 = 3\t3 * 2 = 6\t3 * 3 = 9\t3 * 4 = 12\t3 * 5 = 15\t3 * 6 = 18\t3 * 7 = 21\t3 * 8 = 24\t3 * 9 = 27\t3 * 10 = 30\t\n",
      "4 * 1 = 4\t4 * 2 = 8\t4 * 3 = 12\t4 * 4 = 16\t4 * 5 = 20\t4 * 6 = 24\t4 * 7 = 28\t4 * 8 = 32\t4 * 9 = 36\t4 * 10 = 40\t\n",
      "5 * 1 = 5\t5 * 2 = 10\t5 * 3 = 15\t5 * 4 = 20\t5 * 5 = 25\t5 * 6 = 30\t5 * 7 = 35\t5 * 8 = 40\t5 * 9 = 45\t5 * 10 = 50\t\n",
      "6 * 1 = 6\t6 * 2 = 12\t6 * 3 = 18\t6 * 4 = 24\t6 * 5 = 30\t6 * 6 = 36\t6 * 7 = 42\t6 * 8 = 48\t6 * 9 = 54\t6 * 10 = 60\t\n",
      "7 * 1 = 7\t7 * 2 = 14\t7 * 3 = 21\t7 * 4 = 28\t7 * 5 = 35\t7 * 6 = 42\t7 * 7 = 49\t7 * 8 = 56\t7 * 9 = 63\t7 * 10 = 70\t\n",
      "8 * 1 = 8\t8 * 2 = 16\t8 * 3 = 24\t8 * 4 = 32\t8 * 5 = 40\t8 * 6 = 48\t8 * 7 = 56\t8 * 8 = 64\t8 * 9 = 72\t8 * 10 = 80\t\n",
      "9 * 1 = 9\t9 * 2 = 18\t9 * 3 = 27\t9 * 4 = 36\t9 * 5 = 45\t9 * 6 = 54\t9 * 7 = 63\t9 * 8 = 72\t9 * 9 = 81\t9 * 10 = 90\t\n",
      "10 * 1 = 10\t10 * 2 = 20\t10 * 3 = 30\t10 * 4 = 40\t10 * 5 = 50\t10 * 6 = 60\t10 * 7 = 70\t10 * 8 = 80\t10 * 9 = 90\t10 * 10 = 100\t\n"
     ]
    }
   ],
   "source": [
    "for i in range(1, 11):\n",
    "    for j in range(1, 11):\n",
    "        print(i, \"*\", j, \"=\", i * j, end=\"\\t\") # Print the equation\n",
    "    print() # Move to the next line after each row"
   ]
  },
  {
   "cell_type": "code",
   "execution_count": 31,
   "id": "dad21a99-1079-4c90-ad8a-26b934fd70da",
   "metadata": {},
   "outputs": [],
   "source": [
    "max_value = 50\n",
    "\n",
    "for i in range(max_value + 1):\n",
    "    if max_value % 3 == 0 and max_value % 4 == 0:\n",
    "       print ()"
   ]
  },
  {
   "cell_type": "code",
   "execution_count": 8,
   "id": "b71b966a-5534-44d3-a33a-a4da1777e9d3",
   "metadata": {},
   "outputs": [
    {
     "name": "stdout",
     "output_type": "stream",
     "text": [
      "It might be cold! You might need a jacket.\n"
     ]
    }
   ],
   "source": [
    "temperature = 18  # Example temperature\n",
    "\n",
    "if temperature < 20:\n",
    "    print(\"It might be cold! You might need a jacket.\")\n",
    "else:\n",
    "    print(\"It's warm! Enjoy the sunshine.\")"
   ]
  },
  {
   "cell_type": "code",
   "execution_count": 14,
   "id": "1f399539-83a4-42ea-a69c-8f6017935068",
   "metadata": {},
   "outputs": [
    {
     "name": "stdout",
     "output_type": "stream",
     "text": [
      "A light sweater should be fine. It's a bit chilly.\n"
     ]
    }
   ],
   "source": [
    "temperature = 19  # Let's assume the temperature is 15 degrees Celsius\n",
    "\n",
    "if temperature < 10:\n",
    "    print(\"Wear a jacket! It's cold out there.\")\n",
    "elif 10 <= temperature < 20:\n",
    "    print(\"A light sweater should be fine. It's a bit chilly.\")\n",
    "elif 20 <= temperature < 30:\n",
    "    print(\"Enjoy the pleasant weather! No need for extra layers.\")\n",
    "else:\n",
    "    print(\"It's hot! Stay hydrated and wear sunscreen.\")"
   ]
  },
  {
   "cell_type": "code",
   "execution_count": 20,
   "id": "893c1f51-0087-4bf8-b7d0-6d434e6657f8",
   "metadata": {},
   "outputs": [
    {
     "name": "stdout",
     "output_type": "stream",
     "text": [
      "0\n",
      "1\n",
      "2\n",
      "3\n",
      "4\n",
      "5\n",
      "6\n",
      "7\n",
      "8\n",
      "9\n",
      "10\n"
     ]
    }
   ],
   "source": [
    "# Example: Print numbers from 1 to 5\n",
    "for i in range(0, 11):\n",
    "    print(i)"
   ]
  },
  {
   "cell_type": "code",
   "execution_count": 12,
   "id": "dd23afd5-b5f8-46e8-9793-937d4004513a",
   "metadata": {},
   "outputs": [
    {
     "name": "stdout",
     "output_type": "stream",
     "text": [
      "Carro em  Rio de Janeiro\n",
      "Semáforo vermelho! Parando.\n",
      "Carro em  Rio de Janeiro\n",
      "Semáforo verde! Continuando a dirigir.\n",
      "Chegamos em  São Paulo\n"
     ]
    }
   ],
   "source": [
    "destino = \"São Paulo\"\n",
    "carro = \"Rio de Janeiro\"\n",
    "semaforo = \"vermelho\"\n",
    "\n",
    "while carro != destino:\n",
    "    print(\"Carro em \", carro)\n",
    "    if semaforo == \"vermelho\":\n",
    "        print(\"Semáforo vermelho! Parando.\")\n",
    "        semaforo = \"verde\"\n",
    "    else:\n",
    "        print(\"Semáforo verde! Continuando a dirigir.\")\n",
    "        if carro == \"Rio de Janeiro\":\n",
    "            carro = \"São Paulo\"\n",
    "        else:\n",
    "            print(\"Destino não alcançado.\")\n",
    "print(\"Chegamos em \", destino)"
   ]
  },
  {
   "cell_type": "code",
   "execution_count": null,
   "id": "c344dc33-fa1b-4bbc-9429-0903a3493447",
   "metadata": {},
   "outputs": [],
   "source": [
    "destino = \"São Paulo\"\n",
    "carro = \"Rio de Janeiro\"\n",
    "semaforo = \"vermelho\"\n",
    "\n",
    "while carro != destino:\n",
    "    print(\"Carro em \", carro)\n",
    "    if semaforo == \"vermelho\":\n",
    "        print(\"Semáforo vermelho! Parando.\")\n",
    "        semaforo = \"verde\" # Muda o semáforo para verde após parar\n",
    "    else:\n",
    "        print(\"Semáforo verde! Continuando a dirigir.\")\n",
    "        if carro == \"Rio de Janeiro\":\n",
    "            carro = \"São Paulo\"\n",
    "        else:\n",
    "            print(\"Destino não alcançado.\")\n",
    "print(\"Chegamos em \", destino)"
   ]
  },
  {
   "cell_type": "code",
   "execution_count": 14,
   "id": "51166868-d159-4117-b149-2c2b8d745d52",
   "metadata": {},
   "outputs": [
    {
     "name": "stdout",
     "output_type": "stream",
     "text": [
      "Iniciando o cronômetro de contagem regressiva!\n",
      "10...\n",
      "9...\n",
      "8...\n",
      "7...\n",
      "6...\n",
      "5... Quase lá! Faltam poucos segundos!\n",
      "4...\n",
      "3...\n",
      "2...\n",
      "1...\n",
      "0... Lançar!\n",
      "Contagem regressiva concluída!\n"
     ]
    }
   ],
   "source": [
    "import time # Importa o módulo time para usar a função sleep\n",
    "\n",
    "print(\"Iniciando o cronômetro de contagem regressiva!\")\n",
    "\n",
    "for i in range(10, -1, -1): # Loop que vai de 10 até 0 (inclusive), decrementando 1 a cada passo\n",
    "    if i == 5:\n",
    "        print(f\"{i}... Quase lá! Faltam poucos segundos!\") # Mensagem especial quando o contador é 5\n",
    "    elif i == 0:\n",
    "        print(f\"{i}... Lançar!\") # Mensagem final em 0\n",
    "    else:\n",
    "        print(f\"{i}...\") # Exibe o número da contagem regressiva\n",
    "    time.sleep(1) # Pausa a execução por 1 segundo (simula o tempo passando)\n",
    "\n",
    "print(\"Contagem regressiva concluída!\")"
   ]
  },
  {
   "cell_type": "code",
   "execution_count": 2,
   "id": "de5901dc-775f-43c3-89a3-2a0b22baee23",
   "metadata": {},
   "outputs": [
    {
     "name": "stdout",
     "output_type": "stream",
     "text": [
      "Celsius Temperatures: [0, 10, 25, 32, 100]\n",
      "Fahrenheit Temperatures: []\n"
     ]
    }
   ],
   "source": [
    "# Create a list and add sample Celsius temperatures to it \n",
    "celsius_temperatures = []  # Start with an empty list (do not modify)\n",
    "\n",
    "# Add the Celsius temperatures to the list\n",
    "celsius_temperatures = [0, 10, 25, 32, 100]\n",
    "\n",
    "# Create an empty list to store Fahrenheit temperatures\n",
    "fahrenheit_temperatures = []\n",
    "\n",
    "# Print both lists (do not modify)\n",
    "print(\"Celsius Temperatures:\", celsius_temperatures)\n",
    "print(\"Fahrenheit Temperatures:\", fahrenheit_temperatures) "
   ]
  },
  {
   "cell_type": "code",
   "execution_count": 16,
   "id": "d51729cc-8330-4415-a3bc-aaa26b19f3a1",
   "metadata": {},
   "outputs": [
    {
     "name": "stdout",
     "output_type": "stream",
     "text": [
      "Celsius Temperatures: [0, 10, 25, 32, 100]\n",
      "Fahrenheit Temperatures: [32.0, 50.0, 77.0, 89.6, 212.0]\n"
     ]
    }
   ],
   "source": [
    "# Lists from Step 1 (do not modify)\n",
    "celsius_temperatures = [0, 10, 25, 32, 100]\n",
    "fahrenheit_temperatures = [] \n",
    "\n",
    "# Convert each Celsius temperature to Fahrenheit\n",
    "for celsius in celsius_temperatures:  # Start the loop (do not modify this line)\n",
    "  fahrenheit = (celsius * 9/5) + 32 \n",
    "\n",
    "  fahrenheit_temperatures.append(fahrenheit)  # Append to the list (do not modify this line)\n",
    "\n",
    "# Print the results (including the output from Step 1 - do not modify)\n",
    "print(\"Celsius Temperatures:\", celsius_temperatures)\n",
    "print(\"Fahrenheit Temperatures:\", fahrenheit_temperatures)"
   ]
  },
  {
   "cell_type": "code",
   "execution_count": null,
   "id": "6e998f21-4872-496f-b58b-b724809fc038",
   "metadata": {},
   "outputs": [],
   "source": []
  }
 ],
 "metadata": {
  "kernelspec": {
   "display_name": "Python [conda env:base] *",
   "language": "python",
   "name": "conda-base-py"
  },
  "language_info": {
   "codemirror_mode": {
    "name": "ipython",
    "version": 3
   },
   "file_extension": ".py",
   "mimetype": "text/x-python",
   "name": "python",
   "nbconvert_exporter": "python",
   "pygments_lexer": "ipython3",
   "version": "3.12.7"
  }
 },
 "nbformat": 4,
 "nbformat_minor": 5
}
